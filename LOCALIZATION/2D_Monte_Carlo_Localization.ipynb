{
 "cells": [
  {
   "cell_type": "code",
   "execution_count": 1,
   "metadata": {},
   "outputs": [],
   "source": [
    "colors = [['R','G','G','R','R'],\n",
    "          ['R','R','G','R','R'],\n",
    "          ['R','R','G','G','R'],\n",
    "          ['R','R','R','R','R']]\n",
    "\n",
    "measurements = ['G','G','G','G','G']\n",
    "\n",
    "motions = [[0,0],[0,1],[1,0],[1,0],[0,1]]\n",
    "\n",
    "sensor_right = 0.7\n",
    "\n",
    "pinit = 1.0/(len(colors)*len(colors[0]))\n",
    "\n",
    "p = [[pinit for j in range(len(colors[0]))] for i in range(len(colors))]"
   ]
  },
  {
   "cell_type": "code",
   "execution_count": 2,
   "metadata": {},
   "outputs": [],
   "source": [
    "def normalizer(q):\n",
    "    s = 0\n",
    "    for i in range(len(q)):\n",
    "        for j in range(len(q[0])):\n",
    "            s = s + q[i][j]\n",
    "    return s\n",
    "\n",
    "def normalize(q):\n",
    "    norm = normalizer(q)\n",
    "    \n",
    "    for i in range(len(q)):\n",
    "        for j in range(len(q[0])):\n",
    "            q[i][j] = q[i][j]/norm\n",
    "    return q\n",
    "                    \n",
    "def sense(p,Z,colors,sensor_right):\n",
    "    \n",
    "    for i in range(len(p)):\n",
    "        for j in range(len(p[0])):\n",
    "            \n",
    "            if (colors[i][j] == Z):\n",
    "                p[i][j] = p[i][j]*sensor_right\n",
    "            else:\n",
    "                p[i][j] = p[i][j]*(1.0-sensor_right)\n",
    "                \n",
    "    return normalize(p)\n",
    "def show(p):\n",
    "    for i in range(len(p)):\n",
    "        print(p[i])"
   ]
  },
  {
   "cell_type": "code",
   "execution_count": 3,
   "metadata": {},
   "outputs": [],
   "source": [
    "def move(p,U,p_move):\n",
    "    q= []\n",
    "    \n",
    "    for i in range(len(p)):\n",
    "        q1 = []\n",
    "        for j in range(len(p[0])):\n",
    "            \n",
    "            s = p_move*p[(i-U[0])%len(p)][(j-U[1])%len(p[i])] + (1-p_move)*p[i][j]\n",
    "            q1.append(s)\n",
    "            \n",
    "        q.append(q1)\n",
    "    \n",
    "    return q"
   ]
  },
  {
   "cell_type": "code",
   "execution_count": 4,
   "metadata": {},
   "outputs": [],
   "source": [
    "def localize(colors,measurements,motions,sensor_right,p_move):\n",
    "    # initializes p to a uniform distribution over a grid of the same dimensions as colors\n",
    "    pinit = 1.0 / float(len(colors)) / float(len(colors[0]))\n",
    "    p = [[pinit for row in range(len(colors[0]))] for col in range(len(colors))]\n",
    "\n",
    "    for i in range(len(measurements)):\n",
    "        p = move(p, motions[i],p_move)\n",
    "        p = sense(p,measurements[i],colors,sensor_right)\n",
    "    return p"
   ]
  },
  {
   "cell_type": "code",
   "execution_count": 5,
   "metadata": {},
   "outputs": [
    {
     "name": "stdout",
     "output_type": "stream",
     "text": [
      "[0.0, 0.0, 0.0]\n",
      "[0.0, 1.0, 0.0]\n",
      "[0.0, 0.0, 0.0]\n"
     ]
    }
   ],
   "source": [
    "# test 1\n",
    "colors = [['G', 'G', 'G'],\n",
    "          ['G', 'R', 'G'],\n",
    "          ['G', 'G', 'G']]\n",
    "measurements = ['R']\n",
    "motions = [[0,0]]\n",
    "sensor_right = 1.0\n",
    "p_move = 1.0\n",
    "p = localize(colors,measurements,motions,sensor_right,p_move)\n",
    "show(p)\n",
    "correct_answer = (\n",
    "    [[0.0, 0.0, 0.0],\n",
    "     [0.0, 1.0, 0.0],\n",
    "     [0.0, 0.0, 0.0]])\n",
    "assert correct_answer ==p"
   ]
  },
  {
   "cell_type": "code",
   "execution_count": 6,
   "metadata": {},
   "outputs": [
    {
     "name": "stdout",
     "output_type": "stream",
     "text": [
      "[0.0, 0.0, 0.0]\n",
      "[0.0, 0.5, 0.5]\n",
      "[0.0, 0.0, 0.0]\n"
     ]
    }
   ],
   "source": [
    "# test 2\n",
    "colors = [['G', 'G', 'G'],\n",
    "          ['G', 'R', 'R'],\n",
    "          ['G', 'G', 'G']]\n",
    "measurements = ['R']\n",
    "motions = [[0,0]]\n",
    "sensor_right = 1.0\n",
    "p_move = 1.0\n",
    "p = localize(colors,measurements,motions,sensor_right,p_move)\n",
    "show(p)\n",
    "correct_answer = (\n",
    "    [[0.0, 0.0, 0.0],\n",
    "     [0.0, 0.5, 0.5],\n",
    "     [0.0, 0.0, 0.0]])\n",
    "assert correct_answer ==p"
   ]
  },
  {
   "cell_type": "code",
   "execution_count": 7,
   "metadata": {},
   "outputs": [
    {
     "name": "stdout",
     "output_type": "stream",
     "text": [
      "[0.06666666666666667, 0.06666666666666667, 0.06666666666666667]\n",
      "[0.06666666666666667, 0.2666666666666667, 0.2666666666666667]\n",
      "[0.06666666666666667, 0.06666666666666667, 0.06666666666666667]\n"
     ]
    }
   ],
   "source": [
    "# test 3\n",
    "colors = [['G', 'G', 'G'],\n",
    "          ['G', 'R', 'R'],\n",
    "          ['G', 'G', 'G']]\n",
    "measurements = ['R']\n",
    "motions = [[0,0]]\n",
    "sensor_right = 0.8\n",
    "p_move = 1.0\n",
    "p = localize(colors,measurements,motions,sensor_right,p_move)\n",
    "show(p)\n",
    "correct_answer = (\n",
    "    [[0.06666666666, 0.06666666666, 0.06666666666],\n",
    "     [0.06666666666, 0.26666666666, 0.26666666666],\n",
    "     [0.06666666666, 0.06666666666, 0.06666666666]])"
   ]
  },
  {
   "cell_type": "code",
   "execution_count": 8,
   "metadata": {},
   "outputs": [
    {
     "name": "stdout",
     "output_type": "stream",
     "text": [
      "[0.03333333333333333, 0.03333333333333333, 0.03333333333333333]\n",
      "[0.13333333333333333, 0.13333333333333336, 0.5333333333333334]\n",
      "[0.03333333333333333, 0.03333333333333333, 0.03333333333333333]\n"
     ]
    }
   ],
   "source": [
    "# test 4\n",
    "colors = [['G', 'G', 'G'],\n",
    "          ['G', 'R', 'R'],\n",
    "          ['G', 'G', 'G']]\n",
    "measurements = ['R', 'R']\n",
    "motions = [[0,0], [0,1]]\n",
    "sensor_right = 0.8\n",
    "p_move = 1.0\n",
    "p = localize(colors,measurements,motions,sensor_right,p_move)\n",
    "show(p)\n",
    "correct_answer = (\n",
    "    [[0.03333333333, 0.03333333333, 0.03333333333],\n",
    "     [0.13333333333, 0.13333333333, 0.53333333333],\n",
    "     [0.03333333333, 0.03333333333, 0.03333333333]])"
   ]
  },
  {
   "cell_type": "code",
   "execution_count": 9,
   "metadata": {},
   "outputs": [
    {
     "name": "stdout",
     "output_type": "stream",
     "text": [
      "[0.0, 0.0, 0.0]\n",
      "[0.0, 0.0, 1.0]\n",
      "[0.0, 0.0, 0.0]\n"
     ]
    }
   ],
   "source": [
    "# test 5\n",
    "colors = [['G', 'G', 'G'],\n",
    "          ['G', 'R', 'R'],\n",
    "          ['G', 'G', 'G']]\n",
    "measurements = ['R', 'R']\n",
    "motions = [[0,0], [0,1]]\n",
    "sensor_right = 1.0\n",
    "p_move = 1.0\n",
    "p = localize(colors,measurements,motions,sensor_right,p_move)\n",
    "show(p)\n",
    "correct_answer = (\n",
    "    [[0.0, 0.0, 0.0],\n",
    "     [0.0, 0.0, 1.0],\n",
    "     [0.0, 0.0, 0.0]])\n",
    "assert correct_answer == p"
   ]
  },
  {
   "cell_type": "code",
   "execution_count": 10,
   "metadata": {},
   "outputs": [
    {
     "name": "stdout",
     "output_type": "stream",
     "text": [
      "[0.02898550724637681, 0.02898550724637681, 0.02898550724637681]\n",
      "[0.07246376811594203, 0.2898550724637682, 0.4637681159420291]\n",
      "[0.02898550724637681, 0.02898550724637681, 0.02898550724637681]\n"
     ]
    }
   ],
   "source": [
    "# test 6\n",
    "colors = [['G', 'G', 'G'],\n",
    "          ['G', 'R', 'R'],\n",
    "          ['G', 'G', 'G']]\n",
    "measurements = ['R', 'R']\n",
    "motions = [[0,0], [0,1]]\n",
    "sensor_right = 0.8\n",
    "p_move = 0.5\n",
    "p = localize(colors,measurements,motions,sensor_right,p_move)\n",
    "show(p)\n",
    "correct_answer = (\n",
    "    [[0.0289855072, 0.0289855072, 0.0289855072],\n",
    "     [0.0724637681, 0.2898550724, 0.4637681159],\n",
    "     [0.0289855072, 0.0289855072, 0.0289855072]])"
   ]
  },
  {
   "cell_type": "code",
   "execution_count": 11,
   "metadata": {},
   "outputs": [
    {
     "name": "stdout",
     "output_type": "stream",
     "text": [
      "[0.0, 0.0, 0.0]\n",
      "[0.0, 0.3333333333333333, 0.6666666666666666]\n",
      "[0.0, 0.0, 0.0]\n"
     ]
    }
   ],
   "source": [
    "# test 7\n",
    "colors = [['G', 'G', 'G'],\n",
    "          ['G', 'R', 'R'],\n",
    "          ['G', 'G', 'G']]\n",
    "measurements = ['R', 'R']\n",
    "motions = [[0,0], [0,1]]\n",
    "sensor_right = 1.0\n",
    "p_move = 0.5\n",
    "p = localize(colors,measurements,motions,sensor_right,p_move)\n",
    "show(p)\n",
    "correct_answer = (\n",
    "    [[0.0, 0.0, 0.0],\n",
    "     [0.0, 0.33333333, 0.66666666],\n",
    "     [0.0, 0.0, 0.0]])"
   ]
  },
  {
   "cell_type": "code",
   "execution_count": 12,
   "metadata": {},
   "outputs": [
    {
     "name": "stdout",
     "output_type": "stream",
     "text": [
      "[0.011059807427972012, 0.02464041578496803, 0.06799662806785915, 0.04472487045812158, 0.02465153121665372]\n",
      "[0.0071532041833209815, 0.010171326481705892, 0.08696596002664689, 0.07988429965998084, 0.009350668508437186]\n",
      "[0.007397366886111671, 0.008943730670452702, 0.11272964670259776, 0.3535072295521272, 0.040655492078276775]\n",
      "[0.009106505805646497, 0.0071532041833209815, 0.014349221618346574, 0.04313329135844895, 0.036425599329004736]\n"
     ]
    }
   ],
   "source": [
    "#test 8\n",
    "colors = [['R','G','G','R','R'],\n",
    "          ['R','R','G','R','R'],\n",
    "          ['R','R','G','G','R'],\n",
    "          ['R','R','R','R','R']]\n",
    "measurements = ['G','G','G','G','G']\n",
    "motions = [[0,0],[0,1],[1,0],[1,0],[0,1]]\n",
    "p = localize(colors,measurements,motions,sensor_right = 0.7, p_move = 0.8)\n",
    "show(p)\n",
    "correct_answer= [[0.01105, 0.02464, 0.06799, 0.04472, 0.02465],\n",
    "                [0.00715, 0.01017, 0.08696, 0.07988, 0.00935],\n",
    "                [0.00739, 0.00894, 0.11272, 0.35350, 0.04065],\n",
    "                [0.00910, 0.00715, 0.01434, 0.04313, 0.03642]]"
   ]
  },
  {
   "cell_type": "code",
   "execution_count": null,
   "metadata": {},
   "outputs": [],
   "source": []
  }
 ],
 "metadata": {
  "kernelspec": {
   "display_name": "Python [conda env:carnd-term1]",
   "language": "python",
   "name": "conda-env-carnd-term1-py"
  },
  "language_info": {
   "codemirror_mode": {
    "name": "ipython",
    "version": 3
   },
   "file_extension": ".py",
   "mimetype": "text/x-python",
   "name": "python",
   "nbconvert_exporter": "python",
   "pygments_lexer": "ipython3",
   "version": "3.5.2"
  },
  "widgets": {
   "state": {},
   "version": "1.1.2"
  }
 },
 "nbformat": 4,
 "nbformat_minor": 2
}
