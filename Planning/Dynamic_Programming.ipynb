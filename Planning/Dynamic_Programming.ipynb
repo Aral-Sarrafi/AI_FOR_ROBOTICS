{
 "cells": [
  {
   "cell_type": "code",
   "execution_count": 4,
   "metadata": {},
   "outputs": [],
   "source": [
    "grid = [[0, 1, 0, 0, 0, 0],\n",
    "        [0, 1, 0, 0, 0, 0],\n",
    "        [0, 1, 0, 0, 0, 0],\n",
    "        [0, 1, 0, 0, 0, 0],\n",
    "        [0, 0, 0, 0, 1, 0]]\n",
    "goal = [len(grid)-1, len(grid[0])-1]\n",
    "cost = 1 # the cost associated with moving from a cell to an adjacent one\n",
    "\n",
    "delta = [[-1, 0 ], # go up\n",
    "         [ 0, -1], # go left\n",
    "         [ 1, 0 ], # go down\n",
    "         [ 0, 1 ]] # go right\n",
    "\n",
    "delta_name = ['^', '<', 'v', '>']\n",
    "\n",
    "# The function is for printing the grid in a matrix format\n",
    "def show_grid(grid):\n",
    "    for item in grid:\n",
    "        print(item)"
   ]
  },
  {
   "cell_type": "code",
   "execution_count": 5,
   "metadata": {},
   "outputs": [
    {
     "name": "stdout",
     "output_type": "stream",
     "text": [
      "[0, 1, 0, 0, 0, 0]\n",
      "[0, 1, 0, 0, 0, 0]\n",
      "[0, 1, 0, 0, 0, 0]\n",
      "[0, 1, 0, 0, 0, 0]\n",
      "[0, 0, 0, 0, 1, 0]\n"
     ]
    }
   ],
   "source": [
    "show_grid(grid)"
   ]
  },
  {
   "cell_type": "code",
   "execution_count": 53,
   "metadata": {},
   "outputs": [],
   "source": [
    "def valid_node(node,closedList):\n",
    "    x = node[0]\n",
    "    y = node[1]\n",
    "    \n",
    "    if((x >= 0)                 and\n",
    "       (x <= len(grid)-1)       and\n",
    "       (y >= 0)                 and\n",
    "       (y <= len(grid[0])-1)    and\n",
    "       (grid[x][y] != 1)        and\n",
    "       (closedList[x][y] != 1)):\n",
    "        \n",
    "        return True\n",
    "    else:\n",
    "        return False"
   ]
  },
  {
   "cell_type": "code",
   "execution_count": 62,
   "metadata": {},
   "outputs": [],
   "source": [
    "def compute_value(grid,goal,cost):\n",
    "    # ----------------------------------------\n",
    "    # insert code below\n",
    "    # ----------------------------------------\n",
    "    value = [[0 for col in range(len(grid[0]))] for row in range(len(grid))]\n",
    "    \n",
    "    for i in range(len(grid)):\n",
    "        for j in range(len(grid)):\n",
    "            if(grid[i][j] == 1):\n",
    "                value[i][j] = 99\n",
    "                \n",
    "    openList = []\n",
    "    \n",
    "    node = goal\n",
    "    x = node[0]\n",
    "    y = node[1]\n",
    "    \n",
    "    openList.append(node)\n",
    "    closedList = [[0 for col in range(len(grid[0]))] for row in range(len(grid))]\n",
    "    \n",
    "    frontier = [[0 for col in range(len(grid[0]))] for row in range(len(grid))]\n",
    "    frontier[x][y] = 1\n",
    "    \n",
    "    for j in range(5):\n",
    "        print(openList)\n",
    "        for i in range(len(openList)):\n",
    "            print(i)\n",
    "            print(openList)\n",
    "\n",
    "            node = openList.pop(i)\n",
    "            \n",
    "            closedList[node[0]][node[1]] = 1\n",
    "            \n",
    "            for movement in delta:\n",
    "                \n",
    "                x2 = node[0] + movement[0]\n",
    "                y2 = node[1] + movement[1]\n",
    "                next_node = [x2, y2]\n",
    "\n",
    "                if (valid_node(next_node, closedList)):\n",
    "                    \n",
    "                    if(frontier[x2][y2] == 1):\n",
    "                        continue\n",
    "                    else:\n",
    "                        openList.append(next_node)\n",
    "                        frontier[x2][y2] = 1\n",
    "                        value[next_node[0]][next_node[1]] = value[node[0]][node[1]] + cost\n",
    "\n",
    "    \n",
    "    # make sure your function returns a grid of values as \n",
    "    # demonstrated in the previous video.\n",
    "    return value"
   ]
  },
  {
   "cell_type": "code",
   "execution_count": 63,
   "metadata": {},
   "outputs": [
    {
     "name": "stdout",
     "output_type": "stream",
     "text": [
      "[[4, 5]]\n",
      "0\n",
      "[[4, 5]]\n",
      "[[3, 5]]\n",
      "0\n",
      "[[3, 5]]\n",
      "[[2, 5], [3, 4]]\n",
      "0\n",
      "[[2, 5], [3, 4]]\n",
      "1\n",
      "[[3, 4], [1, 5], [2, 4]]\n",
      "[[3, 4], [2, 4], [0, 5], [1, 4]]\n",
      "0\n",
      "[[3, 4], [2, 4], [0, 5], [1, 4]]\n",
      "1\n",
      "[[2, 4], [0, 5], [1, 4], [3, 3]]\n",
      "2\n",
      "[[2, 4], [1, 4], [3, 3], [0, 4]]\n",
      "3\n",
      "[[2, 4], [1, 4], [0, 4], [2, 3], [3, 2], [4, 3]]\n",
      "[[2, 4], [1, 4], [0, 4], [3, 2], [4, 3], [1, 3], [2, 2]]\n",
      "0\n",
      "[[2, 4], [1, 4], [0, 4], [3, 2], [4, 3], [1, 3], [2, 2]]\n",
      "1\n",
      "[[1, 4], [0, 4], [3, 2], [4, 3], [1, 3], [2, 2]]\n",
      "2\n",
      "[[1, 4], [3, 2], [4, 3], [1, 3], [2, 2], [0, 3]]\n",
      "3\n",
      "[[1, 4], [3, 2], [1, 3], [2, 2], [0, 3], [4, 2]]\n",
      "4\n",
      "[[1, 4], [3, 2], [1, 3], [0, 3], [4, 2], [1, 2]]\n",
      "5\n",
      "[[1, 4], [3, 2], [1, 3], [0, 3], [1, 2], [4, 1]]\n",
      "6\n",
      "[[1, 4], [3, 2], [1, 3], [0, 3], [1, 2], [4, 0]]\n"
     ]
    },
    {
     "ename": "IndexError",
     "evalue": "pop index out of range",
     "output_type": "error",
     "traceback": [
      "\u001b[1;31m---------------------------------------------------------------------------\u001b[0m",
      "\u001b[1;31mIndexError\u001b[0m                                Traceback (most recent call last)",
      "\u001b[1;32m<ipython-input-63-dbd561458d5f>\u001b[0m in \u001b[0;36m<module>\u001b[1;34m()\u001b[0m\n\u001b[1;32m----> 1\u001b[1;33m \u001b[0mshow_grid\u001b[0m\u001b[1;33m(\u001b[0m\u001b[0mcompute_value\u001b[0m\u001b[1;33m(\u001b[0m\u001b[0mgrid\u001b[0m\u001b[1;33m,\u001b[0m\u001b[0mgoal\u001b[0m\u001b[1;33m,\u001b[0m\u001b[0mcost\u001b[0m\u001b[1;33m)\u001b[0m\u001b[1;33m)\u001b[0m\u001b[1;33m\u001b[0m\u001b[0m\n\u001b[0m",
      "\u001b[1;32m<ipython-input-62-dee152a8ada8>\u001b[0m in \u001b[0;36mcompute_value\u001b[1;34m(grid, goal, cost)\u001b[0m\n\u001b[0;32m     28\u001b[0m             \u001b[0mprint\u001b[0m\u001b[1;33m(\u001b[0m\u001b[0mopenList\u001b[0m\u001b[1;33m)\u001b[0m\u001b[1;33m\u001b[0m\u001b[0m\n\u001b[0;32m     29\u001b[0m \u001b[1;33m\u001b[0m\u001b[0m\n\u001b[1;32m---> 30\u001b[1;33m             \u001b[0mnode\u001b[0m \u001b[1;33m=\u001b[0m \u001b[0mopenList\u001b[0m\u001b[1;33m.\u001b[0m\u001b[0mpop\u001b[0m\u001b[1;33m(\u001b[0m\u001b[0mi\u001b[0m\u001b[1;33m)\u001b[0m\u001b[1;33m\u001b[0m\u001b[0m\n\u001b[0m\u001b[0;32m     31\u001b[0m \u001b[1;33m\u001b[0m\u001b[0m\n\u001b[0;32m     32\u001b[0m             \u001b[0mclosedList\u001b[0m\u001b[1;33m[\u001b[0m\u001b[0mnode\u001b[0m\u001b[1;33m[\u001b[0m\u001b[1;36m0\u001b[0m\u001b[1;33m]\u001b[0m\u001b[1;33m]\u001b[0m\u001b[1;33m[\u001b[0m\u001b[0mnode\u001b[0m\u001b[1;33m[\u001b[0m\u001b[1;36m1\u001b[0m\u001b[1;33m]\u001b[0m\u001b[1;33m]\u001b[0m \u001b[1;33m=\u001b[0m \u001b[1;36m1\u001b[0m\u001b[1;33m\u001b[0m\u001b[0m\n",
      "\u001b[1;31mIndexError\u001b[0m: pop index out of range"
     ]
    }
   ],
   "source": [
    "show_grid(compute_value(grid,goal,cost))"
   ]
  },
  {
   "cell_type": "code",
   "execution_count": null,
   "metadata": {},
   "outputs": [],
   "source": []
  }
 ],
 "metadata": {
  "kernelspec": {
   "display_name": "Python [conda env:carnd-term1]",
   "language": "python",
   "name": "conda-env-carnd-term1-py"
  },
  "language_info": {
   "codemirror_mode": {
    "name": "ipython",
    "version": 3
   },
   "file_extension": ".py",
   "mimetype": "text/x-python",
   "name": "python",
   "nbconvert_exporter": "python",
   "pygments_lexer": "ipython3",
   "version": "3.5.5"
  },
  "widgets": {
   "state": {},
   "version": "1.1.2"
  }
 },
 "nbformat": 4,
 "nbformat_minor": 2
}
