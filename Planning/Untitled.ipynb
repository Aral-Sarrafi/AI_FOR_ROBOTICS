{
 "cells": [
  {
   "cell_type": "code",
   "execution_count": 53,
   "metadata": {},
   "outputs": [],
   "source": [
    "forward = [[-1,  0], # go up\n",
    "           [ 0, -1], # go left\n",
    "           [ 1,  0], # go down\n",
    "           [ 0,  1]] # go right\n",
    "forward_name = ['up', 'left', 'down', 'right']\n",
    "\n",
    "# action has 3 values: right turn, no turn, left turn\n",
    "action = [-1, 0, 1]\n",
    "action_name = ['R', '#', 'L']\n",
    "\n",
    "# EXAMPLE INPUTS:\n",
    "# grid format:\n",
    "#     0 = navigable space\n",
    "#     1 = unnavigable space \n",
    "grid = [[1, 1, 1, 0, 0, 0],\n",
    "        [1, 1, 1, 0, 1, 0],\n",
    "        [0, 0, 0, 0, 0, 0],\n",
    "        [1, 1, 1, 0, 1, 1],\n",
    "        [1, 1, 1, 0, 1, 1]]\n",
    "\n",
    "init = [4, 3, 0] # given in the form [row,col,direction]\n",
    "                 # direction = 0: up\n",
    "                 #             1: left\n",
    "                 #             2: down\n",
    "                 #             3: right\n",
    "                \n",
    "goal = [2, 0] # given in the form [row,col]\n",
    "\n",
    "cost = [2, 1, 20] # cost has 3 values, corresponding to making \n",
    "                  # a right turn, no turn, and a left turn"
   ]
  },
  {
   "cell_type": "code",
   "execution_count": 54,
   "metadata": {},
   "outputs": [],
   "source": [
    "def show_grid(grid):\n",
    "    for item in grid:\n",
    "        print(item)"
   ]
  },
  {
   "cell_type": "code",
   "execution_count": 55,
   "metadata": {},
   "outputs": [],
   "source": [
    "def valid_node(node):\n",
    "    x = node[0]\n",
    "    y = node[1]\n",
    "    \n",
    "    if((x >= 0)                 and\n",
    "       (x <= len(grid)-1)       and\n",
    "       (y >= 0)                 and\n",
    "       (y <= len(grid[0])-1)    and\n",
    "       (grid[x][y] == 0)):\n",
    "        \n",
    "        return True\n",
    "    else:\n",
    "        return False"
   ]
  },
  {
   "cell_type": "code",
   "execution_count": 56,
   "metadata": {},
   "outputs": [
    {
     "name": "stdout",
     "output_type": "stream",
     "text": [
      "[1, 1, 1, 0, 0, 0]\n",
      "[1, 1, 1, 0, 1, 0]\n",
      "[0, 0, 0, 0, 0, 0]\n",
      "[1, 1, 1, 0, 1, 1]\n",
      "[1, 1, 1, 0, 1, 1]\n"
     ]
    }
   ],
   "source": [
    "show_grid(grid)"
   ]
  },
  {
   "cell_type": "code",
   "execution_count": 73,
   "metadata": {},
   "outputs": [],
   "source": [
    "def optimum_policy2D(forward, forward_name, action):\n",
    "    \n",
    "    value = [[[999 for i in range(len(grid[0]))] for j in range(len(grid))] for k in range(len(forward))]\n",
    "    \n",
    "    change = True\n",
    "    \n",
    "    while(change):\n",
    "        \n",
    "        change = False\n",
    "        \n",
    "        for theta in range(len(value)):\n",
    "            for x in range(len(value[0])):\n",
    "                for y in range(len(value[0][0])):\n",
    "                    \n",
    "                    if (x == goal[0] and y == goal[0]):\n",
    "                        if(value[x][y][theta] > 0):\n",
    "                            change = True\n",
    "                            value[x][y][theta] = 0\n",
    "                    elif(grid[x][y] == 0):\n",
    "                    \n",
    "                    # take all the possible actions to get to new states from the goal\n",
    "                        for a_index in range(len(action)):\n",
    "                            for m in range(len(forward)):\n",
    "                                \n",
    "                                maneuver = forward[((m + action[a_index])%len(forward))] \n",
    "                                x2 = x + maneuver[0]  \n",
    "                                y2 = y + maneuver[1]\n",
    "                                theta2 = ((theta + action[a_index])%len(forward_name))\n",
    "                                print(cost[a_index])\n",
    "                                # check if the manuver is valid:\n",
    "                                print(valid_node([x2,y2]))\n",
    "                                print([x2,y2])      \n",
    "                                if(valid_node([x2,y2])):\n",
    "                                    v2 = value[x2][y2][theta2] + cost[a_index]\n",
    "                                    \n",
    "                                    if (v2 < value[x][y][theta]):\n",
    "                                        change = True\n",
    "                                        value[x][y][theta] = v2\n",
    "                                        \n",
    "                                    \n",
    "                                \n",
    "                            \n",
    "        \n",
    "    \n",
    "    return value"
   ]
  },
  {
   "cell_type": "code",
   "execution_count": 75,
   "metadata": {},
   "outputs": [
    {
     "name": "stdout",
     "output_type": "stream",
     "text": [
      "2\n",
      "True\n",
      "[0, 4]\n",
      "2\n",
      "False\n",
      "[-1, 3]\n",
      "2\n",
      "False\n",
      "[0, 2]\n",
      "2\n",
      "True\n",
      "[1, 3]\n",
      "1\n",
      "False\n",
      "[-1, 3]\n",
      "1\n",
      "False\n",
      "[0, 2]\n",
      "1\n",
      "True\n",
      "[1, 3]\n",
      "1\n",
      "True\n",
      "[0, 4]\n",
      "20\n",
      "False\n",
      "[0, 2]\n",
      "20\n",
      "True\n",
      "[1, 3]\n",
      "20\n",
      "True\n",
      "[0, 4]\n",
      "20\n",
      "False\n",
      "[-1, 3]\n",
      "2\n",
      "True\n",
      "[0, 5]\n"
     ]
    },
    {
     "ename": "IndexError",
     "evalue": "list index out of range",
     "output_type": "error",
     "traceback": [
      "\u001b[1;31m---------------------------------------------------------------------------\u001b[0m",
      "\u001b[1;31mIndexError\u001b[0m                                Traceback (most recent call last)",
      "\u001b[1;32m<ipython-input-75-7863e05a24e0>\u001b[0m in \u001b[0;36m<module>\u001b[1;34m()\u001b[0m\n\u001b[1;32m----> 1\u001b[1;33m \u001b[0mshow_grid\u001b[0m\u001b[1;33m(\u001b[0m\u001b[0moptimum_policy2D\u001b[0m\u001b[1;33m(\u001b[0m\u001b[0mforward\u001b[0m\u001b[1;33m,\u001b[0m \u001b[0mforward_name\u001b[0m\u001b[1;33m,\u001b[0m \u001b[0maction\u001b[0m\u001b[1;33m)\u001b[0m\u001b[1;33m[\u001b[0m\u001b[1;36m0\u001b[0m\u001b[1;33m]\u001b[0m\u001b[1;33m)\u001b[0m\u001b[1;33m\u001b[0m\u001b[0m\n\u001b[0m",
      "\u001b[1;32m<ipython-input-73-25acfb78cdbf>\u001b[0m in \u001b[0;36moptimum_policy2D\u001b[1;34m(forward, forward_name, action)\u001b[0m\n\u001b[0;32m     32\u001b[0m                                 \u001b[0mprint\u001b[0m\u001b[1;33m(\u001b[0m\u001b[1;33m[\u001b[0m\u001b[0mx2\u001b[0m\u001b[1;33m,\u001b[0m\u001b[0my2\u001b[0m\u001b[1;33m]\u001b[0m\u001b[1;33m)\u001b[0m\u001b[1;33m\u001b[0m\u001b[0m\n\u001b[0;32m     33\u001b[0m                                 \u001b[1;32mif\u001b[0m\u001b[1;33m(\u001b[0m\u001b[0mvalid_node\u001b[0m\u001b[1;33m(\u001b[0m\u001b[1;33m[\u001b[0m\u001b[0mx2\u001b[0m\u001b[1;33m,\u001b[0m\u001b[0my2\u001b[0m\u001b[1;33m]\u001b[0m\u001b[1;33m)\u001b[0m\u001b[1;33m)\u001b[0m\u001b[1;33m:\u001b[0m\u001b[1;33m\u001b[0m\u001b[0m\n\u001b[1;32m---> 34\u001b[1;33m                                     \u001b[0mv2\u001b[0m \u001b[1;33m=\u001b[0m \u001b[0mvalue\u001b[0m\u001b[1;33m[\u001b[0m\u001b[0mx2\u001b[0m\u001b[1;33m]\u001b[0m\u001b[1;33m[\u001b[0m\u001b[0my2\u001b[0m\u001b[1;33m]\u001b[0m\u001b[1;33m[\u001b[0m\u001b[0mtheta2\u001b[0m\u001b[1;33m]\u001b[0m \u001b[1;33m+\u001b[0m \u001b[0mcost\u001b[0m\u001b[1;33m[\u001b[0m\u001b[0ma_index\u001b[0m\u001b[1;33m]\u001b[0m\u001b[1;33m\u001b[0m\u001b[0m\n\u001b[0m\u001b[0;32m     35\u001b[0m \u001b[1;33m\u001b[0m\u001b[0m\n\u001b[0;32m     36\u001b[0m                                     \u001b[1;32mif\u001b[0m \u001b[1;33m(\u001b[0m\u001b[0mv2\u001b[0m \u001b[1;33m<\u001b[0m \u001b[0mvalue\u001b[0m\u001b[1;33m[\u001b[0m\u001b[0mx\u001b[0m\u001b[1;33m]\u001b[0m\u001b[1;33m[\u001b[0m\u001b[0my\u001b[0m\u001b[1;33m]\u001b[0m\u001b[1;33m[\u001b[0m\u001b[0mtheta\u001b[0m\u001b[1;33m]\u001b[0m\u001b[1;33m)\u001b[0m\u001b[1;33m:\u001b[0m\u001b[1;33m\u001b[0m\u001b[0m\n",
      "\u001b[1;31mIndexError\u001b[0m: list index out of range"
     ]
    }
   ],
   "source": [
    "show_grid(optimum_policy2D(forward, forward_name, action)[0])"
   ]
  },
  {
   "cell_type": "code",
   "execution_count": null,
   "metadata": {},
   "outputs": [],
   "source": []
  },
  {
   "cell_type": "code",
   "execution_count": null,
   "metadata": {},
   "outputs": [],
   "source": []
  }
 ],
 "metadata": {
  "kernelspec": {
   "display_name": "Python [conda env:carnd-term1]",
   "language": "python",
   "name": "conda-env-carnd-term1-py"
  },
  "language_info": {
   "codemirror_mode": {
    "name": "ipython",
    "version": 3
   },
   "file_extension": ".py",
   "mimetype": "text/x-python",
   "name": "python",
   "nbconvert_exporter": "python",
   "pygments_lexer": "ipython3",
   "version": "3.5.5"
  },
  "widgets": {
   "state": {},
   "version": "1.1.2"
  }
 },
 "nbformat": 4,
 "nbformat_minor": 2
}
