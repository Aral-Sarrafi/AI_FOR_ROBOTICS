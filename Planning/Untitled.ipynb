{
 "cells": [
  {
   "cell_type": "code",
   "execution_count": 795,
   "metadata": {},
   "outputs": [],
   "source": [
    "# define the planning enviroment\n",
    "grid = [[0, 0, 1, 0, 0, 0],\n",
    "        [0, 0, 0, 0, 1, 0],\n",
    "        [0, 0, 0, 0, 1, 0],\n",
    "        [0, 0, 1, 0, 1, 0],\n",
    "        [0, 0, 0, 0, 1, 0]]\n",
    "\n",
    "init = [0, 0]\n",
    "goal = [len(grid)-1, len(grid[0])-1]\n",
    "cost = 1\n",
    "\n",
    "\n",
    "\n",
    "delta = [[-1, 0], # go up\n",
    "         [ 0,-1], # go left\n",
    "         [ 1, 0], # go down\n",
    "         [ 0, 1]] # go right\n",
    "\n",
    "delta_name = ['^', '<', 'v', '>']"
   ]
  },
  {
   "cell_type": "code",
   "execution_count": 796,
   "metadata": {},
   "outputs": [],
   "source": [
    "# Implement the search() function to find the optimal path in the enviroment\n",
    "def search(grid,init,goal,cost):\n",
    "    \n",
    "    closedList = [[0 for i in range(len(grid[0]))] for j in range(len(grid))]\n",
    "    expand = [[-1 for i in range(len(grid[0]))] for j in range(len(grid))]\n",
    "\n",
    "    \n",
    "    node_list = []\n",
    "    \n",
    "    expand[init[0]][init[1]] = 0\n",
    "    openList = []\n",
    "    \n",
    "    start = [0] + init + [None, None] + [\"S\"]\n",
    "    \n",
    "    node_list.append(start)\n",
    "    openList.append(start)\n",
    "    found = False\n",
    "    resign = False\n",
    "    \n",
    "    \n",
    "    while(found is False and resign is False):\n",
    "\n",
    "\n",
    "        # Check if the goal is found\n",
    "        if (len(openList) == 0):\n",
    "            resign = True\n",
    "            return expand\n",
    "    \n",
    "        else:\n",
    "            \n",
    "            # Sort the frontier list to make the first element the next node for expansion\n",
    "            openList.sort()\n",
    "            openList.reverse()\n",
    "            # get the first element as the next node for expansion\n",
    "            node = openList.pop()\n",
    "            # check if you have reached the goal\n",
    "            if(node[1:3] == goal):\n",
    "                found = True\n",
    "                path = recun_path(node_list, grid, start)\n",
    "                return path\n",
    "            else:\n",
    "            # remove this node from the frontier and add it to the visited list\n",
    "                closedList[node[1]][node[2]] = 1\n",
    "\n",
    "            # Expand the selected node. Also check that the movements are valid\n",
    "            # A movement is valid if the expanded node remains inside the grid and it should not end up on..\n",
    "            #obstacles\n",
    "                for movement, action in zip(delta, delta_name):\n",
    "                    \n",
    "                    next_node = [node[1] + movement[0], node[2] + movement[1]]\n",
    "\n",
    "                    if valid_node(next_node,closedList):\n",
    "                        \n",
    "                        expanded_node = [node[0] + cost] + next_node + node[1:3] + [action]\n",
    "                        \n",
    "                        \n",
    "                        node_list.append(expanded_node)\n",
    "                        openList.append(expanded_node)\n",
    "                        \n",
    "                        expand[next_node[0]][next_node[1]] = expand[node[1]][node[2]] + 1\n",
    "                        \n"
   ]
  },
  {
   "cell_type": "code",
   "execution_count": 797,
   "metadata": {},
   "outputs": [],
   "source": [
    "def recun_path(node_list, grid, start):\n",
    "    path = [[\" \" for i in range(len(grid[0]))] for j in range(len(grid))]\n",
    "    \n",
    "    node = node_list[-1]\n",
    "    path[node[1]][node[2]] = \"*\"\n",
    "    \n",
    "    while(True):\n",
    "        \n",
    "        for item in node_list:\n",
    "            if (item[1:3] == node[3:5]):\n",
    "                pnode = item\n",
    "        \n",
    "        if (node[1:3] == start[1:3]):\n",
    "            return path\n",
    "            break\n",
    "        path[pnode[1]][pnode[2]] = node[5]\n",
    "        \n",
    "        node = pnode"
   ]
  },
  {
   "cell_type": "code",
   "execution_count": 798,
   "metadata": {},
   "outputs": [],
   "source": [
    "def valid_node(node,closedList):\n",
    "    if((node[0] >= 0)                 and\n",
    "       (node[0] <= len(grid)-1)       and\n",
    "       (node[1] >= 0)                 and\n",
    "       (node[1] <= len(grid[1])-1)    and\n",
    "       (grid[node[0]][node[1]] != 1)  and\n",
    "       (closedList[node[0]][node[1]] != 1)):\n",
    "        \n",
    "        valid = True\n",
    "    else:\n",
    "        valid = False\n",
    "    return valid"
   ]
  },
  {
   "cell_type": "code",
   "execution_count": 799,
   "metadata": {},
   "outputs": [
    {
     "data": {
      "text/plain": [
       "[['v', ' ', ' ', '>', '>', 'v'],\n",
       " ['>', '>', '>', '^', ' ', 'v'],\n",
       " [' ', ' ', ' ', ' ', ' ', 'v'],\n",
       " [' ', ' ', ' ', ' ', ' ', 'v'],\n",
       " [' ', ' ', ' ', ' ', ' ', '*']]"
      ]
     },
     "execution_count": 799,
     "metadata": {},
     "output_type": "execute_result"
    }
   ],
   "source": [
    "search(grid,init,goal,cost)"
   ]
  },
  {
   "cell_type": "code",
   "execution_count": null,
   "metadata": {},
   "outputs": [],
   "source": []
  }
 ],
 "metadata": {
  "kernelspec": {
   "display_name": "Python [conda env:carnd-term1]",
   "language": "python",
   "name": "conda-env-carnd-term1-py"
  },
  "language_info": {
   "codemirror_mode": {
    "name": "ipython",
    "version": 3
   },
   "file_extension": ".py",
   "mimetype": "text/x-python",
   "name": "python",
   "nbconvert_exporter": "python",
   "pygments_lexer": "ipython3",
   "version": "3.5.5"
  },
  "widgets": {
   "state": {},
   "version": "1.1.2"
  }
 },
 "nbformat": 4,
 "nbformat_minor": 2
}
