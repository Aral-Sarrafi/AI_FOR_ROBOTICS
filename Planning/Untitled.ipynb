{
 "cells": [
  {
   "cell_type": "code",
   "execution_count": 63,
   "metadata": {},
   "outputs": [],
   "source": [
    "# define the planning enviroment\n",
    "grid = [[0, 0, 1, 0, 0, 0],\n",
    "        [0, 0, 1, 0, 0, 0],\n",
    "        [0, 0, 0, 0, 1, 0],\n",
    "        [0, 0, 1, 1, 1, 0],\n",
    "        [0, 0, 0, 0, 1, 0]]\n",
    "\n",
    "init = [0, 0]\n",
    "goal = [len(grid)-1, len(grid[0])-1]\n",
    "cost = 1\n",
    "\n",
    "\n",
    "\n",
    "delta = [[-1, 0], # go up\n",
    "         [ 0,-1], # go left\n",
    "         [ 1, 0], # go down\n",
    "         [ 0, 1]] # go right\n",
    "\n",
    "delta_name = ['^', '<', 'v', '>']"
   ]
  },
  {
   "cell_type": "code",
   "execution_count": 93,
   "metadata": {},
   "outputs": [],
   "source": [
    "# Implement the search() function to find the optimal path in the enviroment\n",
    "def search():\n",
    "    \n",
    "    visited = [[0 for i in range(len(grid[0]))] for j in range(len(grid))]\n",
    "    frontier = []\n",
    "    \n",
    "    start = [0] + init\n",
    "    \n",
    "    frontier.append(start)\n",
    "    \n",
    "    # Sort the frontier list to make the first element the next node for expansion\n",
    "    frontier.sort()\n",
    "    \n",
    "    # get the first element as the next node for expansion\n",
    "    node = frontier[0]\n",
    "    \n",
    "    # remove this node from the frontier and add it to the visited list\n",
    "    visited[node[1]][node[2]] = 1\n",
    "    \n",
    "    # Expand the selected node. Also check that the movements are valid\n",
    "    # A movement is valid if the expanded node remains inside the grid and it should not end up on..\n",
    "    #obstacles\n",
    "    for movement in delta:\n",
    "        \n",
    "        next_node = [node[1] + movement[0], node[2] + movement[1]]\n",
    "        \n",
    "        \n",
    "        frontier.append([[cost] + next_node])\n",
    "    \n",
    "    \n",
    "    \n",
    "    \n",
    "    \n",
    "    return frontier\n",
    "\n"
   ]
  },
  {
   "cell_type": "code",
   "execution_count": 94,
   "metadata": {},
   "outputs": [
    {
     "name": "stdout",
     "output_type": "stream",
     "text": [
      "[[0, 0, 0], [[1, -1, 0]], [[1, 0, -1]], [[1, 1, 0]], [[1, 0, 1]]]\n"
     ]
    }
   ],
   "source": [
    "print(search())"
   ]
  },
  {
   "cell_type": "code",
   "execution_count": null,
   "metadata": {},
   "outputs": [],
   "source": [
    "def node_to_expand(frontier):\n",
    "    \n",
    "    \n",
    "    return node"
   ]
  }
 ],
 "metadata": {
  "kernelspec": {
   "display_name": "Python [conda env:carnd-term1]",
   "language": "python",
   "name": "conda-env-carnd-term1-py"
  },
  "language_info": {
   "codemirror_mode": {
    "name": "ipython",
    "version": 3
   },
   "file_extension": ".py",
   "mimetype": "text/x-python",
   "name": "python",
   "nbconvert_exporter": "python",
   "pygments_lexer": "ipython3",
   "version": "3.5.5"
  },
  "widgets": {
   "state": {},
   "version": "1.1.2"
  }
 },
 "nbformat": 4,
 "nbformat_minor": 2
}
