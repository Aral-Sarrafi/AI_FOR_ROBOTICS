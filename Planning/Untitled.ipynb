{
 "cells": [
  {
   "cell_type": "code",
   "execution_count": 345,
   "metadata": {},
   "outputs": [],
   "source": [
    "# define the planning enviroment\n",
    "grid = [[0,1],[0,0]]\n",
    "\n",
    "init = [0, 0]\n",
    "goal = [len(grid)-1, len(grid[0])-1]\n",
    "cost = 1\n",
    "\n",
    "\n",
    "\n",
    "delta = [[-1, 0], # go up\n",
    "         [ 0,-1], # go left\n",
    "         [ 1, 0], # go down\n",
    "         [ 0, 1]] # go right\n",
    "\n",
    "delta_name = ['^', '<', 'v', '>']"
   ]
  },
  {
   "cell_type": "code",
   "execution_count": 346,
   "metadata": {},
   "outputs": [],
   "source": [
    "# Implement the search() function to find the optimal path in the enviroment\n",
    "def search(grid,init,goal,cost):\n",
    "    \n",
    "    visited = [[0 for i in range(len(grid[0]))] for j in range(len(grid))]\n",
    "    frontier = []\n",
    "    \n",
    "    start = [0] + init\n",
    "    \n",
    "    frontier.append(start)\n",
    "    node = frontier[0]\n",
    "    \n",
    "    found = False\n",
    "    resign = False\n",
    "    \n",
    "    optimal_path = []\n",
    "    \n",
    "    while(found is False and resign is False):\n",
    "\n",
    "\n",
    "        # Check if the goal is found\n",
    "        if (node[1:] == goal):\n",
    "            print(\"The optimal path to the goal is found!\")\n",
    "            found = True\n",
    "            return node\n",
    "            \n",
    "\n",
    "        if ((len(frontier) == 0) and (node[1:] != goal)):\n",
    "            print(\"Sorry there is no path to the goal\")\n",
    "            resign = True\n",
    "            \n",
    "                \n",
    "        \n",
    "        # Sort the frontier list to make the first element the next node for expansion\n",
    "        frontier.sort()\n",
    "\n",
    "        # get the first element as the next node for expansion\n",
    "        node = frontier[0]\n",
    "        # remove this node from the frontier and add it to the visited list\n",
    "        frontier.pop(0)\n",
    "        visited[node[1]][node[2]] = 1\n",
    "\n",
    "        # Expand the selected node. Also check that the movements are valid\n",
    "        # A movement is valid if the expanded node remains inside the grid and it should not end up on..\n",
    "        #obstacles\n",
    "        \n",
    "        for movement in delta:\n",
    "\n",
    "            next_node = [node[1] + movement[0], node[2] + movement[1]]\n",
    "\n",
    "            if valid_node(next_node,visited):\n",
    "                frontier.append([node[0] + cost] + next_node)"
   ]
  },
  {
   "cell_type": "code",
   "execution_count": 347,
   "metadata": {},
   "outputs": [],
   "source": [
    "def valid_node(node,visited):\n",
    "    if((node[0] >= 0)                 and\n",
    "       (node[0] <= len(grid)-1)       and\n",
    "       (node[1] >= 0)                 and\n",
    "       (node[1] <= len(grid[1])-1)    and\n",
    "       (grid[node[0]][node[1]] != 1)  and\n",
    "       (visited[node[0]][node[1]] != 1)):\n",
    "        \n",
    "        valid = True\n",
    "    else:\n",
    "        valid = False\n",
    "    return valid"
   ]
  },
  {
   "cell_type": "code",
   "execution_count": 348,
   "metadata": {},
   "outputs": [
    {
     "name": "stdout",
     "output_type": "stream",
     "text": [
      "The optimal path to the goal is found!\n"
     ]
    },
    {
     "data": {
      "text/plain": [
       "[2, 1, 1]"
      ]
     },
     "execution_count": 348,
     "metadata": {},
     "output_type": "execute_result"
    }
   ],
   "source": [
    "search(grid,init,goal,cost)"
   ]
  },
  {
   "cell_type": "code",
   "execution_count": null,
   "metadata": {},
   "outputs": [],
   "source": []
  }
 ],
 "metadata": {
  "kernelspec": {
   "display_name": "Python [conda env:carnd-term1]",
   "language": "python",
   "name": "conda-env-carnd-term1-py"
  },
  "language_info": {
   "codemirror_mode": {
    "name": "ipython",
    "version": 3
   },
   "file_extension": ".py",
   "mimetype": "text/x-python",
   "name": "python",
   "nbconvert_exporter": "python",
   "pygments_lexer": "ipython3",
   "version": "3.5.5"
  },
  "widgets": {
   "state": {},
   "version": "1.1.2"
  }
 },
 "nbformat": 4,
 "nbformat_minor": 2
}
