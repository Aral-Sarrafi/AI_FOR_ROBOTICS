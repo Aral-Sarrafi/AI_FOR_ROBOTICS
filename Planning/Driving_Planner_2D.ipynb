{
 "cells": [
  {
   "cell_type": "code",
   "execution_count": 238,
   "metadata": {},
   "outputs": [],
   "source": [
    "forward = [[-1,  0], # go up\n",
    "           [ 0, -1], # go left\n",
    "           [ 1,  0], # go down\n",
    "           [ 0,  1]] # go right\n",
    "forward_name = ['up', 'left', 'down', 'right']\n",
    "\n",
    "# action has 3 values: right turn, no turn, left turn\n",
    "action = [-1, 0, 1]\n",
    "action_name = ['R', '#', 'L']\n",
    "\n",
    "# EXAMPLE INPUTS:\n",
    "# grid format:\n",
    "#     0 = navigable space\n",
    "#     1 = unnavigable space \n",
    "grid = [[1, 1, 1, 0, 0, 0],\n",
    "        [1, 1, 1, 0, 1, 0],\n",
    "        [0, 0, 0, 0, 0, 0],\n",
    "        [1, 1, 1, 0, 1, 1],\n",
    "        [1, 1, 1, 0, 1, 1]]\n",
    "\n",
    "init = [4, 3, 0] # given in the form [row,col,direction]\n",
    "                 # direction = 0: up\n",
    "                 #             1: left\n",
    "                 #             2: down\n",
    "                 #             3: right\n",
    "                \n",
    "goal = [2, 0] # given in the form [row,col]\n",
    "\n",
    "\n",
    "# Changing the cost for a left turn the planner may find another path to get to the goal.\n",
    "cost = [2, 1, 13] # cost has 3 values, corresponding to making \n",
    "                  # a right turn, no turn, and a left turn"
   ]
  },
  {
   "cell_type": "code",
   "execution_count": 239,
   "metadata": {},
   "outputs": [],
   "source": [
    "def show_grid(grid):\n",
    "    for item in grid:\n",
    "        print(item)"
   ]
  },
  {
   "cell_type": "code",
   "execution_count": 240,
   "metadata": {},
   "outputs": [],
   "source": [
    "def valid_node(node):\n",
    "    x = node[0]\n",
    "    y = node[1]\n",
    "    \n",
    "    if((x >= 0)                 and\n",
    "       (x <= len(grid)-1)       and\n",
    "       (y >= 0)                 and\n",
    "       (y <= len(grid[0])-1)    and\n",
    "       (grid[x][y] == 0)):\n",
    "        \n",
    "        return True\n",
    "    else:\n",
    "        return False"
   ]
  },
  {
   "cell_type": "code",
   "execution_count": 241,
   "metadata": {},
   "outputs": [
    {
     "name": "stdout",
     "output_type": "stream",
     "text": [
      "[1, 1, 1, 0, 0, 0]\n",
      "[1, 1, 1, 0, 1, 0]\n",
      "[0, 0, 0, 0, 0, 0]\n",
      "[1, 1, 1, 0, 1, 1]\n",
      "[1, 1, 1, 0, 1, 1]\n"
     ]
    }
   ],
   "source": [
    "show_grid(grid)"
   ]
  },
  {
   "cell_type": "code",
   "execution_count": 242,
   "metadata": {},
   "outputs": [],
   "source": [
    "def optimum_policy2D(forward, forward_name, action):\n",
    "    \n",
    "    value = [[[999 for theta in range(len(forward_name))] for y in range(len(grid[0]))] for x in range(len(grid))]\n",
    "    policy = [[['' for theta in range(len(forward_name))] for y in range(len(grid[0]))] for x in range(len(grid))]\n",
    "    \n",
    "    change = True\n",
    "    \n",
    "    while(change):\n",
    "        \n",
    "        change = False\n",
    "        \n",
    "        \n",
    "        for x in range(len(grid)):\n",
    "            for y in range(len(grid[0])):\n",
    "                for theta in range(len(forward_name)):\n",
    "                    \n",
    "                    if(x == goal[0] and y == goal[1]):\n",
    "                        \n",
    "                        if(value[x][y][theta] > 0):\n",
    "                            value[x][y][theta] = 0\n",
    "                            policy[x][y][theta] = '*'\n",
    "                            change = True\n",
    "                            \n",
    "                    elif(grid[x][y] == 0):\n",
    "                        \n",
    "                        #Loop over all the possible actions\n",
    "                        for a_index in range(len(action)):\n",
    "                            \n",
    "                            theta2 = (theta + action[a_index])%len(forward_name)\n",
    "                            \n",
    "                            manuver = forward[theta2]\n",
    "                            \n",
    "                            x2 = x + manuver[0]\n",
    "                            y2 = y + manuver[1]\n",
    "                            \n",
    "                            \n",
    "                            \n",
    "                            #check if the action is valid:\n",
    "                            if(valid_node([x2,y2])):\n",
    "                            \n",
    "                                v2 = value[x2][y2][theta2] + cost[a_index]\n",
    "                                \n",
    "                                # Select the optimal action for the current state in the policy\n",
    "                                if(v2 < value[x][y][theta]):\n",
    "                                    \n",
    "                                    value[x][y][theta] = v2\n",
    "                                    policy[x][y][theta] = a_index\n",
    "                                    change = True\n",
    "                            \n",
    "    optimal_policy = [[\" \" for y in range(len(grid[0]))] for x in range(len(grid))]\n",
    "    \n",
    "    x0 = init[0]\n",
    "    y0 = init[1]\n",
    "    theta0 =init[2]\n",
    "    \n",
    "    \n",
    "    at_goal = False\n",
    "    \n",
    "    while(not at_goal):\n",
    "        \n",
    "        # Read the optimal action from the policy\n",
    "        optimal_action = policy[x0][y0][theta0]\n",
    "        optimal_policy[x0][y0] = action_name[optimal_action]\n",
    "        # update the current state to get to the next state using the optimal action\n",
    "        theta = (theta0 + action[optimal_action])%len(forward_name)\n",
    "        x = x0 + forward[theta][0]\n",
    "        y = y0 + forward[theta][1]\n",
    "\n",
    "        \n",
    "        if(x == goal[0] and y == goal[1]):\n",
    "            optimal_policy[x][y] = \"*\"\n",
    "            at_goal = True\n",
    "        \n",
    "        x0 = x\n",
    "        y0 = y\n",
    "        theta0 = theta\n",
    "                                \n",
    "                            \n",
    "        \n",
    "    \n",
    "    return optimal_policy"
   ]
  },
  {
   "cell_type": "code",
   "execution_count": 237,
   "metadata": {},
   "outputs": [
    {
     "name": "stdout",
     "output_type": "stream",
     "text": [
      "[' ', ' ', ' ', 'R', '#', 'R']\n",
      "[' ', ' ', ' ', '#', ' ', '#']\n",
      "['*', '#', '#', '#', '#', 'R']\n",
      "[' ', ' ', ' ', '#', ' ', ' ']\n",
      "[' ', ' ', ' ', '#', ' ', ' ']\n"
     ]
    }
   ],
   "source": [
    "show_grid(optimum_policy2D(forward, forward_name, action))"
   ]
  }
 ],
 "metadata": {
  "kernelspec": {
   "display_name": "Python [conda env:carnd-term1]",
   "language": "python",
   "name": "conda-env-carnd-term1-py"
  },
  "language_info": {
   "codemirror_mode": {
    "name": "ipython",
    "version": 3
   },
   "file_extension": ".py",
   "mimetype": "text/x-python",
   "name": "python",
   "nbconvert_exporter": "python",
   "pygments_lexer": "ipython3",
   "version": "3.5.5"
  },
  "widgets": {
   "state": {},
   "version": "1.1.2"
  }
 },
 "nbformat": 4,
 "nbformat_minor": 2
}
